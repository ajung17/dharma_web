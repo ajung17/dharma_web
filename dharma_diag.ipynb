{
 "cells": [
  {
   "cell_type": "code",
   "execution_count": 5,
   "metadata": {},
   "outputs": [],
   "source": [
    "import pandas as pd\n",
    "import numpy as np\n",
    "from sklearn.ensemble import RandomForestClassifier\n",
    "from sklearn.model_selection import train_test_split,cross_val_score\n",
    "from sklearn.impute import KNNImputer\n",
    "from sklearn.metrics import recall_score,accuracy_score,roc_auc_score,average_precision_score,roc_curve,auc,confusion_matrix\n",
    "from joblib import dump"
   ]
  },
  {
   "cell_type": "code",
   "execution_count": 6,
   "metadata": {},
   "outputs": [
    {
     "name": "stderr",
     "output_type": "stream",
     "text": [
      "C:\\Users\\subash\\AppData\\Local\\Temp\\ipykernel_16904\\285789233.py:25: FutureWarning: Downcasting behavior in `replace` is deprecated and will be removed in a future version. To retain the old behavior, explicitly call `result.infer_objects(copy=False)`. To opt-in to the future behavior, set `pd.set_option('future.no_silent_downcasting', True)`\n",
      "  df_base[col]=df_base[col].replace(mapping).fillna(0)\n"
     ]
    }
   ],
   "source": [
    "df_base=pd.read_excel('dataset_780.xlsx',sheet_name=0)\n",
    "\n",
    "df_base = df_base.dropna(subset=['Diagnosis'])\n",
    "\n",
    "mapping={\n",
    "    'no':0,\n",
    "    'yes':1,\n",
    "    'male':1,\n",
    "    'female':0,\n",
    "    'normal':0,\n",
    "    'diarrhea':1,\n",
    "    'constipation':1,\n",
    "    '+':1,\n",
    "    '++':2,\n",
    "    '+++':3,\n",
    "    'local':1,\n",
    "    'generalized':2,\n",
    "    'appendicitis':1,\n",
    "    'no appendicitis':0,\n",
    "    'uncomplicated':0,\n",
    "    'complicated':1,\n",
    "}\n",
    "\n",
    "for col in df_base.columns:\n",
    "    df_base[col]=df_base[col].replace(mapping).fillna(0)\n",
    "\n",
    "usg_col=['Appendix_Diameter']\n",
    "\n",
    "# highly dependent features\n",
    "dataset_1=['Nausea','Loss_of_Appetite','Peritonitis','WBC_Count','Neutrophil_Percentage','CRP','Ketones_in_Urine','Appendix_Diameter','Free_Fluids','Diagnosis']\n",
    "\n",
    "# features without usg values\n",
    "dataset_2=['Sex','BMI','Peritonitis','Ketones_in_Urine','Contralateral_Rebound_Tenderness','Nausea','Loss_of_Appetite','CRP','Lower_Right_Abd_Pain','Coughing_Pain','Migratory_Pain','Lower_Right_Abd_Pain'\n",
    "\n",
    "           'WBC_Count','Neutrophil_Percentage','Body_Temperature','Ipsilateral_Rebound_Tenderness','Diagnosis']"
   ]
  },
  {
   "cell_type": "code",
   "execution_count": 7,
   "metadata": {},
   "outputs": [
    {
     "name": "stdout",
     "output_type": "stream",
     "text": [
      "(468, 9)\n"
     ]
    }
   ],
   "source": [
    "# Model development for highly dependent features\n",
    "\n",
    "df=df_base[dataset_1]\n",
    "\n",
    "\n",
    "\n",
    "\n",
    "\n",
    "x = df.iloc[:, 0:-1]  \n",
    "y = df.iloc[:, -1]\n",
    "\n",
    "\n",
    "\n",
    "x_temp,x_test, y_temp,y_test = train_test_split(x,y,test_size=0.2,random_state=88)\n",
    "x_train,x_val,y_train,y_val = train_test_split(x_temp,y_temp,test_size=0.25,random_state=88)\n",
    "\n",
    "print(x_train.shape)\n",
    "\n",
    "\n",
    "\n",
    "\n",
    "\n",
    "\n"
   ]
  },
  {
   "cell_type": "code",
   "execution_count": 8,
   "metadata": {},
   "outputs": [],
   "source": [
    "# dharma=RandomForestClassifier(\n",
    "#     n_estimators=555,\n",
    "#     min_samples_split=12,\n",
    "#     min_samples_leaf=1,\n",
    "#     max_depth=35,\n",
    "#     random_state=17,\n",
    "#     class_weight=\"balanced\"\n",
    "# )\n",
    "\n",
    "# dharma.fit(x_train,y_train)\n",
    "# dump(dharma,'DharmaDiag.joblib')\n",
    "\n",
    "\n",
    "\n"
   ]
  },
  {
   "cell_type": "code",
   "execution_count": null,
   "metadata": {},
   "outputs": [],
   "source": []
  },
  {
   "cell_type": "code",
   "execution_count": null,
   "metadata": {},
   "outputs": [],
   "source": []
  },
  {
   "cell_type": "code",
   "execution_count": null,
   "metadata": {},
   "outputs": [],
   "source": []
  },
  {
   "cell_type": "code",
   "execution_count": null,
   "metadata": {},
   "outputs": [],
   "source": []
  },
  {
   "cell_type": "code",
   "execution_count": null,
   "metadata": {},
   "outputs": [],
   "source": []
  },
  {
   "cell_type": "code",
   "execution_count": null,
   "metadata": {},
   "outputs": [],
   "source": []
  }
 ],
 "metadata": {
  "kernelspec": {
   "display_name": "Python 3",
   "language": "python",
   "name": "python3"
  },
  "language_info": {
   "codemirror_mode": {
    "name": "ipython",
    "version": 3
   },
   "file_extension": ".py",
   "mimetype": "text/x-python",
   "name": "python",
   "nbconvert_exporter": "python",
   "pygments_lexer": "ipython3",
   "version": "3.12.7"
  }
 },
 "nbformat": 4,
 "nbformat_minor": 2
}
