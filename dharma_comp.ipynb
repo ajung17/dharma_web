{
 "cells": [
  {
   "cell_type": "code",
   "execution_count": 1,
   "metadata": {},
   "outputs": [],
   "source": [
    "import pandas as pd\n",
    "import numpy as np\n",
    "import pandas as pd\n",
    "import numpy as np\n",
    "from sklearn.ensemble import RandomForestClassifier\n",
    "from sklearn.model_selection import train_test_split,cross_val_score\n",
    "from sklearn.metrics import recall_score,accuracy_score,roc_auc_score,average_precision_score,roc_curve,auc,confusion_matrix\n",
    "from sklearn.feature_selection import RFECV\n",
    "from sklearn.metrics import make_scorer, recall_score\n",
    "from sklearn.model_selection import StratifiedKFold\n",
    "import matplotlib.pyplot as plt\n",
    "from sklearn.model_selection import RandomizedSearchCV\n",
    "from imblearn.under_sampling import NearMiss\n",
    "from imblearn.over_sampling import SMOTE\n",
    "from imblearn.under_sampling import NearMiss\n",
    "from imblearn.datasets import make_imbalance\n",
    "from joblib import dump\n",
    "\n",
    "\n",
    "\n"
   ]
  },
  {
   "cell_type": "code",
   "execution_count": 2,
   "metadata": {},
   "outputs": [
    {
     "name": "stdout",
     "output_type": "stream",
     "text": [
      "(1015, 17)\n",
      "Severity\n",
      "0    454\n",
      "1    148\n",
      "Name: count, dtype: int64\n"
     ]
    }
   ],
   "source": [
    "df_base=pd.read_excel('dataset_combined.xlsx',sheet_name=0)\n",
    "\n",
    "df_base = df_base.dropna(subset=['Diagnosis'])\n",
    "\n",
    "mapping={\n",
    "    'no':0,\n",
    "    'yes':1,\n",
    "    'male':1,\n",
    "    'female':0,\n",
    "    'normal':0,\n",
    "    'diarrhea':1,\n",
    "    'constipation':1,\n",
    "    '+':1,\n",
    "    '++':2,\n",
    "    '+++':3,\n",
    "    'local':1,\n",
    "    'generalized':2,\n",
    "    'appendicitis':1,\n",
    "    'no appendicitis':0,\n",
    "    'uncomplicated':0,\n",
    "    'complicated':1,\n",
    "}\n",
    "\n",
    "for col in df_base.columns:\n",
    "    df_base[col]=df_base[col].replace(mapping).fillna(0)\n",
    "\n",
    "print(df_base.shape)\n",
    "\n",
    "df=df_base[df_base['Diagnosis']==1]\n",
    "\n",
    "print(df['Severity'].value_counts(dropna=False))\n",
    "\n",
    "df.to_excel('dataset_complications.xlsx', index=False)\n",
    "\n",
    "\n",
    "\n",
    "feature_active=['Nausea','Loss_of_Appetite','Peritonitis','Ketones_in_Urine','Free_Fluids','CRP','WBC_Count','Body_Temperature','Appendix_Diameter','Severity']\n",
    "\n",
    "# feature_roster=['Peritonitis','Ketones_in_Urine','Nausea','Loss_of_Appetite','Free_Fluids','CRP','WBC_Count','Body_Temperature','Neutrophil_Percentage','Appendix_Diameter','Severity']\n",
    "\n",
    "# print (df['Severity'].value_counts())\n",
    "# print (df_base['Diagnosis'].value_counts())"
   ]
  },
  {
   "cell_type": "code",
   "execution_count": null,
   "metadata": {},
   "outputs": [],
   "source": []
  },
  {
   "cell_type": "code",
   "execution_count": 3,
   "metadata": {},
   "outputs": [
    {
     "name": "stdout",
     "output_type": "stream",
     "text": [
      "Before SMOTE:  Severity\n",
      "0    359\n",
      "1    122\n",
      "Name: count, dtype: int64\n",
      "After SMOTE:  Severity\n",
      "0    359\n",
      "1    359\n",
      "Name: count, dtype: int64\n",
      "After NearMiss (undersampling class 0 to half):  Severity\n",
      "1    359\n",
      "0    179\n",
      "Name: count, dtype: int64\n",
      "train dataset:  Severity\n",
      "1    262\n",
      "0    141\n",
      "Name: count, dtype: int64\n",
      "validation dataset:  Severity\n",
      "1    97\n",
      "0    38\n",
      "Name: count, dtype: int64\n",
      "test dataset:  Severity\n",
      "0    95\n",
      "1    26\n",
      "Name: count, dtype: int64\n"
     ]
    },
    {
     "data": {
      "text/plain": [
       "['DharmaComp.joblib']"
      ]
     },
     "execution_count": 3,
     "metadata": {},
     "output_type": "execute_result"
    }
   ],
   "source": [
    "# Model Development\n",
    "\n",
    "df=df[feature_active]\n",
    "\n",
    "x = df.iloc[:, 0:-1]  \n",
    "y = df.iloc[:, -1]\n",
    "\n",
    "\n",
    "\n",
    "x_temp,x_test, y_temp,y_test = train_test_split(x,y,test_size=0.2,random_state=17)\n",
    "\n",
    "\n",
    "smote = SMOTE(sampling_strategy='auto', random_state=17)\n",
    "\n",
    "# Apply SMOTE to the training data\n",
    "x_temp_resampled, y_temp_resampled = smote.fit_resample(x_temp, y_temp)\n",
    "\n",
    "# Check the distribution after resampling\n",
    "print(\"Before SMOTE: \", y_temp.value_counts())\n",
    "print(\"After SMOTE: \", y_temp_resampled.value_counts())\n",
    "\n",
    "\n",
    "majority_class_size = y_temp_resampled.value_counts()[0]\n",
    "desired_majority_size = majority_class_size // 2  # Reducing class 0 to half its size\n",
    "nearmiss = NearMiss(version=1,sampling_strategy={0: desired_majority_size})\n",
    "\n",
    "x_temp_resampled_nearmiss, y_temp_resampled_nearmiss = nearmiss.fit_resample(x_temp_resampled, y_temp_resampled)\n",
    "\n",
    "# Distribution after NearMiss undersampling\n",
    "print(\"After NearMiss (undersampling class 0 to half): \", y_temp_resampled_nearmiss.value_counts())\n",
    "\n",
    "x_train,x_val,y_train,y_val = train_test_split(x_temp_resampled_nearmiss,y_temp_resampled_nearmiss,test_size=0.25,random_state=17)\n",
    "\n",
    "print(\"train dataset: \", y_train.value_counts())\n",
    "print(\"validation dataset: \", y_val.value_counts())\n",
    "print(\"test dataset: \", y_test.value_counts())\n",
    "\n",
    "\n",
    "\n",
    "dharma=RandomForestClassifier(\n",
    "    n_estimators=555,\n",
    "    min_samples_split=2,\n",
    "    min_samples_leaf=1,\n",
    "    max_depth=33,\n",
    "    random_state=17,\n",
    "   \n",
    ")\n",
    "\n",
    "dharma.fit(x_train,y_train)\n",
    "dump(dharma, 'DharmaComp.joblib')  # Save the model\n",
    "\n",
    "\n",
    "\n",
    "\n",
    "\n",
    "\n",
    "\n",
    "\n",
    "\n",
    "\n",
    "\n",
    "\n"
   ]
  },
  {
   "cell_type": "code",
   "execution_count": null,
   "metadata": {},
   "outputs": [],
   "source": []
  },
  {
   "cell_type": "code",
   "execution_count": null,
   "metadata": {},
   "outputs": [],
   "source": []
  }
 ],
 "metadata": {
  "kernelspec": {
   "display_name": "Python 3",
   "language": "python",
   "name": "python3"
  },
  "language_info": {
   "codemirror_mode": {
    "name": "ipython",
    "version": 3
   },
   "file_extension": ".py",
   "mimetype": "text/x-python",
   "name": "python",
   "nbconvert_exporter": "python",
   "pygments_lexer": "ipython3",
   "version": "3.12.7"
  }
 },
 "nbformat": 4,
 "nbformat_minor": 2
}
